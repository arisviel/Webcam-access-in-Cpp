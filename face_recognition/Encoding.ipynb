{
 "cells": [
  {
   "cell_type": "code",
   "execution_count": 59,
   "metadata": {},
   "outputs": [],
   "source": [
    "import numpy as np\n",
    "import face_recognition\n",
    "import os"
   ]
  },
  {
   "cell_type": "code",
   "execution_count": 104,
   "metadata": {},
   "outputs": [],
   "source": [
    "r, w = os.pipe() "
   ]
  },
  {
   "cell_type": "markdown",
   "metadata": {},
   "source": [
    "making list of objects in containing folder"
   ]
  },
  {
   "cell_type": "code",
   "execution_count": 98,
   "metadata": {},
   "outputs": [],
   "source": [
    "root = '/home/eatmystyle/Pictures/knows_persons/' #way to folder with imgs\n",
    "save_root = '/home/eatmystyle/Pictures/' #way to save results, CANNOT be as root way!\n",
    "imgs = list(sorted(os.listdir(os.path.join(root))))"
   ]
  },
  {
   "cell_type": "markdown",
   "metadata": {},
   "source": [
    "extract features for our images"
   ]
  },
  {
   "cell_type": "code",
   "execution_count": 96,
   "metadata": {},
   "outputs": [],
   "source": [
    "inter = 0 #crutch\n",
    "for img in imgs:\n",
    "    img_array = face_recognition.load_image_file(root+img) #load image as np.array\n",
    "    \n",
    "    encoded = face_recognition.face_encodings(img_array)[0] #extract features\n",
    "    \n",
    "    encoded = np.expand_dims(encoded,axis=0) #insert new dimension\n",
    "    \n",
    "    #stacking image with new dimension\n",
    "    if inter == 0:\n",
    "        batch = encoded\n",
    "    else:\n",
    "        batch = np.concatenate((batch, encoded), axis=0)\n",
    "    inter += 1"
   ]
  },
  {
   "cell_type": "markdown",
   "metadata": {},
   "source": [
    "Save features"
   ]
  },
  {
   "cell_type": "code",
   "execution_count": 101,
   "metadata": {},
   "outputs": [],
   "source": [
    "np.savetxt((save_root + 'features') ,batch, delimiter=',')"
   ]
  },
  {
   "cell_type": "code",
   "execution_count": null,
   "metadata": {},
   "outputs": [],
   "source": []
  },
  {
   "cell_type": "code",
   "execution_count": null,
   "metadata": {},
   "outputs": [],
   "source": []
  }
 ],
 "metadata": {
  "kernelspec": {
   "display_name": "Python 3",
   "language": "python",
   "name": "python3"
  },
  "language_info": {
   "codemirror_mode": {
    "name": "ipython",
    "version": 3
   },
   "file_extension": ".py",
   "mimetype": "text/x-python",
   "name": "python",
   "nbconvert_exporter": "python",
   "pygments_lexer": "ipython3",
   "version": "3.7.4"
  }
 },
 "nbformat": 4,
 "nbformat_minor": 2
}
